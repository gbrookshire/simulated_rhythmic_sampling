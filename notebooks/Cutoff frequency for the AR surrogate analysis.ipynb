{
 "cells": [
  {
   "cell_type": "markdown",
   "metadata": {},
   "source": [
    "# How does selecting a maximum frequency influence the AR surrogate analysis?\n",
    "\n",
    "Geoffrey Brookshire\n",
    "\n",
    "Do the results change if we only look below a set frequency?"
   ]
  },
  {
   "cell_type": "code",
   "execution_count": 1,
   "metadata": {},
   "outputs": [],
   "source": [
    "# Import libraries and set up analyses\n",
    "%matplotlib inline\n",
    "\n",
    "import os\n",
    "os.chdir('..')"
   ]
  },
  {
   "cell_type": "code",
   "execution_count": 2,
   "metadata": {},
   "outputs": [],
   "source": [
    "import yaml\n",
    "import copy\n",
    "import itertools\n",
    "import numpy as np\n",
    "from scipy import signal, stats\n",
    "import matplotlib.pyplot as plt\n",
    "import analysis\n",
    "import simulate_behavior as behav\n",
    "import simulate_experiments as sim_exp\n",
    "from analysis_methods import shuff_time, alternatives, utils\n",
    "from generate_plots import remove_topright_axes\n",
    "from stat_report_helpers import chi_square_report\n",
    "\n",
    "# Suppress maximum likelihood estimation convergence warnings\n",
    "import warnings\n",
    "from statsmodels.tools.sm_exceptions import ConvergenceWarning\n",
    "warnings.simplefilter('ignore', ConvergenceWarning)\n",
    "\n",
    "USE_CACHE = True  # Whether to use previously-saved simulations\n",
    "\n",
    "behav_details = yaml.safe_load(open('behav_details.yaml'))\n",
    "\n",
    "plt.ion()\n",
    "\n",
    "plot_dir = 'plots/'\n",
    "n_exp = 1000\n",
    "behav_kwargs = {'noise_method': 'powerlaw',\n",
    "                'exponent': 2}\n",
    "osc_parameters = {'Rand walk': {'f_osc': 0, 'osc_amp': 0},\n",
    "                  'Rand walk + osc': {'f_osc': 6, 'osc_amp': 0.4}}\n",
    "method_names = {'LF2012': 'landau',\n",
    "                'Robust est': 'mann_lees',\n",
    "                'AR surr': 'ar'}\n",
    "\n",
    "colors = {'Rand walk': 'red',\n",
    "          'Rand walk + osc': 'dodgerblue'}"
   ]
  },
  {
   "cell_type": "code",
   "execution_count": 3,
   "metadata": {},
   "outputs": [],
   "source": [
    "def cutoff_ar(freq_cutoff, **behav_kwargs):\n",
    "    details = behav_details['landau']\n",
    "    x_trial, t_trial = behav.simulate_behavior_trialwise(\n",
    "        details, **behav_kwargs)\n",
    "    t, x = utils.avg_repeated_timepoints(t_trial, x_trial)\n",
    "    res = alternatives.ar_surr(x, details['fs'], details['k_perm'],\n",
    "                               freq_cutoff=freq_cutoff)\n",
    "    res['details'] = details\n",
    "    res['t'] = t\n",
    "    return res"
   ]
  },
  {
   "cell_type": "code",
   "execution_count": 4,
   "metadata": {},
   "outputs": [
    {
     "name": "stdout",
     "output_type": "stream",
     "text": [
      "loading: results/ar_exp_2.00_f_0.00_amp_0.00.npy\n",
      "loading: results/ar_exp_2.00_f_0.00_amp_0.00-freq_cutoff_20.npy\n",
      "loading: results/ar_exp_2.00_f_0.00_amp_0.00-freq_cutoff_25.npy\n",
      "loading: results/ar_exp_2.00_f_0.00_amp_0.00-freq_cutoff_30.npy\n",
      "loading: results/ar_exp_2.00_f_6.00_amp_0.40.npy\n",
      "loading: results/ar_exp_2.00_f_6.00_amp_0.40-freq_cutoff_20.npy\n",
      "loading: results/ar_exp_2.00_f_6.00_amp_0.40-freq_cutoff_25.npy\n",
      "loading: results/ar_exp_2.00_f_6.00_amp_0.40-freq_cutoff_30.npy\n"
     ]
    }
   ],
   "source": [
    "freq_cutoffs = (15, 20, 25, 30)  # Only keep freqs below this value\n",
    "\n",
    "examples = {}\n",
    "prop_signif = {}\n",
    "for osc_label, osc_params in osc_parameters.items():\n",
    "    prop_signif[osc_label] = {}\n",
    "    examples[osc_label] = {}\n",
    "    \n",
    "    for freq in freq_cutoffs:\n",
    "        \n",
    "        if freq == 15:  # Re-use main data for standard cutoff\n",
    "            desc = ''\n",
    "        else:\n",
    "            desc = f'-freq_cutoff_{int(freq)}'\n",
    "\n",
    "        def analysis_fnc(**behav_kwargs):\n",
    "            \"\"\" Helper function\n",
    "            \"\"\"\n",
    "            res = cutoff_ar(freq,\n",
    "                            **behav_kwargs)\n",
    "            return res\n",
    "\n",
    "        if USE_CACHE or freq == 15:\n",
    "            lit = analysis.load_simulation('ar',\n",
    "                                           desc=desc,\n",
    "                                           **behav_kwargs,\n",
    "                                           **osc_params)\n",
    "\n",
    "        else:\n",
    "\n",
    "            lit = analysis.simulate_lit(analysis_fnc, n_exp,\n",
    "                                        desc=desc,\n",
    "                                        **behav_kwargs,\n",
    "                                        **osc_params)\n",
    "            analysis.save_simulation(lit,\n",
    "                                     'ar',\n",
    "                                     desc=desc,\n",
    "                                     **behav_kwargs,\n",
    "                                     **osc_params)\n",
    "  \n",
    "        p = analysis.prop_sig(lit)\n",
    "        prop_signif[osc_label][freq] = p\n",
    "        examples[osc_label][freq] = lit['result'][0]"
   ]
  },
  {
   "cell_type": "code",
   "execution_count": 5,
   "metadata": {},
   "outputs": [
    {
     "data": {
      "image/png": "[encoded data removed]",
      "text/plain": [
       "<Figure size 108x216 with 1 Axes>"
      ]
     },
     "metadata": {
      "needs_background": "light"
     },
     "output_type": "display_data"
    }
   ],
   "source": [
    "def prop_ci(p, n):\n",
    "    \"\"\" 95% CI of a proportion\n",
    "    \"\"\"\n",
    "    return 1.96 * np.sqrt((p * (1 - p)) / n)\n",
    "\n",
    "plt.figure(figsize=(1.5, 3))\n",
    "plt.axhline(y=0.05, color='k', linestyle='--')\n",
    "for osc_label in osc_parameters.keys():\n",
    "    psig = prop_signif[osc_label]\n",
    "    labels = psig.keys()\n",
    "    x_pos = np.arange(float(len(psig)))\n",
    "    psig = np.array(list(psig.values()))\n",
    "    plt.errorbar(x_pos, psig,\n",
    "                 yerr=prop_ci(psig, n_exp),\n",
    "                 fmt='o',\n",
    "                 color=colors[osc_label],\n",
    "                 label=osc_label)\n",
    "plt.xticks(x_pos, labels)\n",
    "plt.xlim([-0.5, len(psig) - 0.5])\n",
    "plt.xlabel('Cutoff frequency (Hz)')\n",
    "plt.ylim(-0.01, 1.01)\n",
    "plt.ylabel('Prop. signif.')\n",
    "plt.title('AR surr')\n",
    "remove_topright_axes()\n",
    "plt.savefig(f\"{plot_dir}cutoff_freq.eps\")"
   ]
  },
  {
   "cell_type": "markdown",
   "metadata": {},
   "source": [
    "The analysis is less conservative and more powerful when we select only frequencies of interest (< 15 Hz)."
   ]
  },
  {
   "cell_type": "markdown",
   "metadata": {},
   "source": [
    "Test for a difference between cutoff frequencies."
   ]
  },
  {
   "cell_type": "code",
   "execution_count": 6,
   "metadata": {
    "scrolled": true
   },
   "outputs": [
    {
     "name": "stdout",
     "output_type": "stream",
     "text": [
      "- Rand walk\n",
      " - 15 vs 30: $\\chi^2(1) = 8.5$, $p = 0.003$, $\\phi_C = 0.07$ [0.03, 0.11]\n",
      "- Rand walk + osc\n",
      " - 15 vs 30: $\\chi^2(1) = 258.1$, $p = 4 \\times 10^{-58}$, $\\phi_C = 0.36$ [0.33, 0.39]\n"
     ]
    }
   ],
   "source": [
    "for osc_label in osc_parameters.keys():\n",
    "    print('-', osc_label)\n",
    "    psig = prop_signif[osc_label]\n",
    "    labels = psig.keys()\n",
    "    comp = (15, 30)\n",
    "    # Make a contingency table\n",
    "    msg = f' - {comp[0]} vs {comp[1]}: '\n",
    "    p0 = psig[comp[0]]\n",
    "    p1 = psig[comp[1]]\n",
    "    tbl = [[p0 * n_exp, p1 * n_exp],\n",
    "           [(1 - p0) * n_exp, (1 - p1) * n_exp]]\n",
    "    tbl = np.array(tbl)\n",
    "    msg += chi_square_report(tbl)\n",
    "    print(msg)"
   ]
  },
  {
   "cell_type": "markdown",
   "metadata": {},
   "source": [
    "Test whether this method controls the rate of false positives for each cutoff frequency."
   ]
  },
  {
   "cell_type": "code",
   "execution_count": 7,
   "metadata": {},
   "outputs": [
    {
     "name": "stdout",
     "output_type": "stream",
     "text": [
      "- 15: 0.04, p = 8.3e-01\n",
      "- 20: 0.04, p = 8.6e-01\n",
      "- 25: 0.02, p = 1.0e+00\n",
      "- 30: 0.02, p = 1.0e+00\n"
     ]
    }
   ],
   "source": [
    "for freq in freq_cutoffs:\n",
    "    prop = prop_signif['Rand walk'][freq]\n",
    "    pval = stats.binom_test(prop * n_exp,\n",
    "                            n_exp,\n",
    "                            0.05,\n",
    "                            alternative='greater')\n",
    "    msg = f'- {freq}: {prop:.2f}, p = {pval:.1e}'\n",
    "    if prop > 0.05 and pval < 0.05:\n",
    "        msg += ' *'\n",
    "    print(msg)"
   ]
  }
 ],
 "metadata": {
  "kernelspec": {
   "display_name": "Python 3",
   "language": "python",
   "name": "python3"
  },
  "language_info": {
   "codemirror_mode": {
    "name": "ipython",
    "version": 3
   },
   "file_extension": ".py",
   "mimetype": "text/x-python",
   "name": "python",
   "nbconvert_exporter": "python",
   "pygments_lexer": "ipython3",
   "version": "3.7.6"
  }
 },
 "nbformat": 4,
 "nbformat_minor": 4
}
