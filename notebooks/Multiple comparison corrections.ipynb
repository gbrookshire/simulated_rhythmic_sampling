{
 "cells": [
  {
   "cell_type": "markdown",
   "metadata": {},
   "source": [
    "# Correcting for multiple comparisons\n",
    "\n",
    "Geoffrey Brookshire\n",
    "\n",
    "Here we test how the AR surrogate and robust est. analyses behave when correcting for multiple comparisons using cluster-based permutation tests, Bonferroni corrections, and correcting with the False Discovery Rate (FDR)."
   ]
  },
  {
   "cell_type": "code",
   "execution_count": 1,
   "metadata": {},
   "outputs": [],
   "source": [
    "# Import libraries and set up analyses\n",
    "%matplotlib inline\n",
    "\n",
    "import os\n",
    "os.chdir('..')"
   ]
  },
  {
   "cell_type": "code",
   "execution_count": 2,
   "metadata": {},
   "outputs": [],
   "source": [
    "import yaml\n",
    "import copy\n",
    "import itertools\n",
    "import numpy as np\n",
    "from scipy import signal, stats\n",
    "import matplotlib.pyplot as plt\n",
    "import analysis\n",
    "import simulate_behavior as behav\n",
    "import simulate_experiments as sim_exp\n",
    "from analysis_methods import shuff_time, alternatives, utils\n",
    "from generate_plots import remove_topright_axes\n",
    "from stat_report_helpers import chi_square_report\n",
    "\n",
    "# Suppress maximum likelihood estimation convergence warnings\n",
    "import warnings\n",
    "from statsmodels.tools.sm_exceptions import ConvergenceWarning\n",
    "warnings.simplefilter('ignore', ConvergenceWarning)\n",
    "\n",
    "USE_CACHE = True  # Whether to use previously-saved simulations\n",
    "\n",
    "behav_details = yaml.safe_load(open('behav_details.yaml'))\n",
    "\n",
    "plt.ion()\n",
    "\n",
    "plot_dir = 'plots/'\n",
    "n_exp = 1000\n",
    "behav_kwargs = {'noise_method': 'powerlaw',\n",
    "                'exponent': 2}\n",
    "osc_parameters = {'Rand walk': {'f_osc': 0, 'osc_amp': 0},\n",
    "                  'Rand walk + osc': {'f_osc': 6, 'osc_amp': 0.4}}\n",
    "method_names = {'Robust est': 'mann_lees',\n",
    "                'AR surr': 'ar'}\n",
    "\n",
    "colors = {'Rand walk': 'red',\n",
    "          'Rand walk + osc': 'dodgerblue'}"
   ]
  },
  {
   "cell_type": "code",
   "execution_count": 3,
   "metadata": {},
   "outputs": [
    {
     "name": "stdout",
     "output_type": "stream",
     "text": [
      "loading: results/mann_lees_exp_2.00_f_0.00_amp_0.00-Bonferroni.npy\n",
      "loading: results/mann_lees_exp_2.00_f_0.00_amp_0.00-FDR.npy\n",
      "loading: results/ar_exp_2.00_f_0.00_amp_0.00.npy\n",
      "loading: results/ar_exp_2.00_f_0.00_amp_0.00-Bonferroni.npy\n",
      "loading: results/ar_exp_2.00_f_0.00_amp_0.00-FDR.npy\n",
      "loading: results/mann_lees_exp_2.00_f_6.00_amp_0.40-Bonferroni.npy\n",
      "loading: results/mann_lees_exp_2.00_f_6.00_amp_0.40-FDR.npy\n",
      "loading: results/ar_exp_2.00_f_6.00_amp_0.40.npy\n",
      "loading: results/ar_exp_2.00_f_6.00_amp_0.40-Bonferroni.npy\n",
      "loading: results/ar_exp_2.00_f_6.00_amp_0.40-FDR.npy\n"
     ]
    }
   ],
   "source": [
    "osc_parameters = {'Rand walk': {'f_osc': 0, 'osc_amp': 0},\n",
    "                  'Rand walk + osc': {'f_osc': 6, 'osc_amp': 0.4}}\n",
    "correction_methods = ('Cluster', 'Bonferroni', 'FDR')\n",
    "exp_functions = {'Robust est': sim_exp.robust_est_experiment,\n",
    "                 'AR surr': sim_exp.ar_experiment}\n",
    "prop_signif = {}\n",
    "\n",
    "for osc_label, osc_params in osc_parameters.items():\n",
    "    prop_signif[osc_label] = {}\n",
    "    \n",
    "    for analysis_meth, exp_fnc in exp_functions.items():\n",
    "        prop_signif[osc_label][analysis_meth] = {}\n",
    "\n",
    "        for correction in correction_methods:\n",
    "            \n",
    "            # Can't run a cluster test on robust est.\n",
    "            if analysis_meth == 'Robust est' and correction == 'Cluster':\n",
    "                continue\n",
    "\n",
    "            if correction == 'Cluster':  # Re-use main data for cluster\n",
    "                desc = ''\n",
    "            else:\n",
    "                desc = f'-{correction}'\n",
    "\n",
    "            def analysis_fnc(**behav_kwargs):\n",
    "                \"\"\" Helper function\n",
    "                \"\"\"\n",
    "                res = exp_fnc(correction=correction.lower(),\n",
    "                              **behav_kwargs)\n",
    "                return res\n",
    "\n",
    "            if USE_CACHE or correction == 'Cluster':\n",
    "                lit = analysis.load_simulation(method_names[analysis_meth],\n",
    "                                               desc=desc,\n",
    "                                               **behav_kwargs,\n",
    "                                               **osc_params)\n",
    "\n",
    "            else:\n",
    "\n",
    "                lit = analysis.simulate_lit(analysis_fnc, n_exp,\n",
    "                                            desc=desc,\n",
    "                                            **behav_kwargs,\n",
    "                                            **osc_params)\n",
    "                analysis.save_simulation(lit,\n",
    "                                         method_names[analysis_meth],\n",
    "                                         desc=desc,\n",
    "                                         **behav_kwargs,\n",
    "                                         **osc_params)\n",
    "\n",
    "            p = analysis.prop_sig(lit)\n",
    "            prop_signif[osc_label][analysis_meth][correction] = p"
   ]
  },
  {
   "cell_type": "code",
   "execution_count": 4,
   "metadata": {},
   "outputs": [
    {
     "data": {
      "image/png": "[encoded data removed]",
      "text/plain": [
       "<Figure size 288x216 with 2 Axes>"
      ]
     },
     "metadata": {
      "needs_background": "light"
     },
     "output_type": "display_data"
    }
   ],
   "source": [
    "def prop_ci(p, n):\n",
    "    \"\"\" 95% CI of a proportion\n",
    "    \"\"\"\n",
    "    return 1.96 * np.sqrt((p * (1 - p)) / n)\n",
    "\n",
    "fig, axes = plt.subplots(1, 2,\n",
    "                         gridspec_kw={'width_ratios': [1, 1]},\n",
    "                         figsize=(4, 3))\n",
    "\n",
    "for i_plot, analysis_meth in enumerate(exp_functions.keys()):\n",
    "    plt.subplot(axes[i_plot])\n",
    "    plt.title(analysis_meth)\n",
    "    plt.axhline(y=0.05, color='k', linestyle='--')\n",
    "    for osc_label in osc_parameters.keys():\n",
    "        psig = prop_signif[osc_label][analysis_meth]\n",
    "        labels = psig.keys()\n",
    "        x_pos = np.arange(float(len(psig)))\n",
    "        psig = np.array(list(psig.values()))\n",
    "        plt.errorbar(x_pos, psig,\n",
    "                     yerr=prop_ci(psig, n_exp),\n",
    "                     fmt='o',\n",
    "                     color=colors[osc_label],\n",
    "                     label=osc_label)\n",
    "    plt.xticks(x_pos, labels, rotation=45)\n",
    "    plt.xlim([-0.5, len(psig) - 0.5])\n",
    "    plt.ylim(0, 1.05)\n",
    "    plt.ylabel('Prop. signif.')\n",
    "    remove_topright_axes()\n",
    "plt.tight_layout()\n",
    "plt.savefig(f\"{plot_dir}mult_comp_corrections.eps\")"
   ]
  },
  {
   "cell_type": "markdown",
   "metadata": {},
   "source": [
    "These plots show the proportion of significant oscillations identified for each method of multiple comparisons correction. The false positive rate for each method is reflected in the proportion of significant results when the data were simulated as a random walk (in blue). The true positive rate (analogous to experimental power, assuming certain characteristics of the signal) is reflected in the proportion of significant results when the data were simulated as a random walk plus an oscillation (in orange)."
   ]
  },
  {
   "cell_type": "markdown",
   "metadata": {},
   "source": [
    "## Statistical tests\n",
    "\n",
    "### Differences between methods for multiple comparisons correction\n",
    "\n",
    "We can test for differences in performance between the different methods of adjusting for multiple comparisons."
   ]
  },
  {
   "cell_type": "markdown",
   "metadata": {},
   "source": [
    "First, test whether the choice of multiple comparison influences the rate of positive results for the AR surrogate analysis."
   ]
  },
  {
   "cell_type": "code",
   "execution_count": 5,
   "metadata": {},
   "outputs": [
    {
     "name": "stdout",
     "output_type": "stream",
     "text": [
      "- Rand walk\n",
      "  $\\chi^2(2) = 14.0$, $p = 0.0009$, $\\phi_C = 0.07$ [0.04, 0.10]\n",
      "- Rand walk + osc\n",
      "  $\\chi^2(2) = 55.0$, $p = 1 \\times 10^{-12}$, $\\phi_C = 0.14$ [0.10, 0.17]\n"
     ]
    }
   ],
   "source": [
    "analysis_meth = 'AR surr'\n",
    "for osc_label in osc_parameters.keys():\n",
    "    print('-', osc_label)\n",
    "    psig = prop_signif[osc_label][analysis_meth]\n",
    "    labels = psig.keys()\n",
    "    tbl = []\n",
    "    for mult_comp_meth, p in psig.items():\n",
    "        row = [int(p * n_exp), int((1 - p) * n_exp)]\n",
    "        tbl.append(row)\n",
    "    tbl = np.array(tbl)\n",
    "    msg = chi_square_report(tbl)\n",
    "    print('  ' + msg)"
   ]
  },
  {
   "cell_type": "markdown",
   "metadata": {},
   "source": [
    "Next, test for pairwise differences between multiple comparisons methods within each analysis method and signal type."
   ]
  },
  {
   "cell_type": "code",
   "execution_count": 6,
   "metadata": {
    "scrolled": true
   },
   "outputs": [
    {
     "name": "stdout",
     "output_type": "stream",
     "text": [
      "Robust est\n",
      "- Rand walk\n",
      " - Bon vs FDR: $\\chi^2(1) = 0.2$, $p = 0.7$, $\\phi_C = 0.01$ [0.00, 0.06]\n",
      "- Rand walk + osc\n",
      " - Bon vs FDR: $\\chi^2(1) = 0.5$, $p = 0.5$, $\\phi_C = 0.02$ [0.00, 0.06]\n",
      "AR surr\n",
      "- Rand walk\n",
      " - Clu vs Bon: $\\chi^2(1) = 10.5$, $p = 0.001$, $\\phi_C = 0.07$ [0.03, 0.12]\n",
      " - Clu vs FDR: $\\chi^2(1) = 11.1$, $p = 0.0009$, $\\phi_C = 0.08$ [0.03, 0.12]\n",
      " - Bon vs FDR: $\\chi^2(1) = 0.0$, $p = 1$, $\\phi_C = 0.00$ [0.00, 0.05]\n",
      "- Rand walk + osc\n",
      " - Clu vs Bon: $\\chi^2(1) = 34.0$, $p = 6 \\times 10^{-09}$, $\\phi_C = 0.13$ [0.10, 0.16]\n",
      " - Clu vs FDR: $\\chi^2(1) = 26.1$, $p = 3 \\times 10^{-07}$, $\\phi_C = 0.12$ [0.08, 0.15]\n",
      " - Bon vs FDR: $\\chi^2(1) = 0.6$, $p = 0.5$, $\\phi_C = 0.02$ [0.00, 0.07]\n"
     ]
    }
   ],
   "source": [
    "for analysis_meth in exp_functions.keys():\n",
    "    print(analysis_meth)\n",
    "    for osc_label in osc_parameters.keys():\n",
    "        print('-', osc_label)\n",
    "        psig = prop_signif[osc_label][analysis_meth]\n",
    "        labels = psig.keys()\n",
    "        for comp in itertools.combinations(labels, 2):\n",
    "            # Make a contingency table\n",
    "            p0 = psig[comp[0]]\n",
    "            p1 = psig[comp[1]]\n",
    "            tbl = [[p0 * n_exp, p1 * n_exp],\n",
    "                   [(1 - p0) * n_exp, (1 - p1) * n_exp]]\n",
    "            tbl = np.array(tbl)\n",
    "            msg = f' - {comp[0][:3]} vs {comp[1][:3]}: '\n",
    "            msg += chi_square_report(tbl)\n",
    "            print(msg)"
   ]
  },
  {
   "cell_type": "markdown",
   "metadata": {},
   "source": [
    "### Comparing false positives against alpha = 0.05\n",
    "\n",
    "Does each method have a rate of false positives higher than 0.05? If so, that method does not adequately control the rate of false positives."
   ]
  },
  {
   "cell_type": "code",
   "execution_count": 7,
   "metadata": {},
   "outputs": [
    {
     "name": "stdout",
     "output_type": "stream",
     "text": [
      "Robust est\n",
      "- Bon: 0.03, p = 1e+00\n",
      "- FDR: 0.02, p = 1e+00\n",
      "AR surr\n",
      "- Clu: 0.04, p = 8e-01\n",
      "- Bon: 0.08, p = 3e-05 *\n",
      "- FDR: 0.08, p = 2e-05 *\n"
     ]
    }
   ],
   "source": [
    "for analysis_meth in exp_functions.keys():\n",
    "    print(analysis_meth)\n",
    "    psig = prop_signif['Rand walk'][analysis_meth]\n",
    "    labels = psig.keys()\n",
    "    for mc_meth, prop in psig.items():\n",
    "        pval = stats.binom_test(prop * n_exp,\n",
    "                                n_exp,\n",
    "                                0.05,\n",
    "                                alternative = 'greater')\n",
    "        msg = f'- {mc_meth[:3]}: {prop:.2f}, '\n",
    "        msg += f'p = {pval:.0e}'\n",
    "        if prop > 0.05 and pval < 0.05:\n",
    "            msg += ' *'\n",
    "        print(msg)"
   ]
  }
 ],
 "metadata": {
  "kernelspec": {
   "display_name": "Python 3",
   "language": "python",
   "name": "python3"
  },
  "language_info": {
   "codemirror_mode": {
    "name": "ipython",
    "version": 3
   },
   "file_extension": ".py",
   "mimetype": "text/x-python",
   "name": "python",
   "nbconvert_exporter": "python",
   "pygments_lexer": "ipython3",
   "version": "3.7.6"
  }
 },
 "nbformat": 4,
 "nbformat_minor": 4
}
